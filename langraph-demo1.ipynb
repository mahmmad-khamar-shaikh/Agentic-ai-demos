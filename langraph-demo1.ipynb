{
 "cells": [
  {
   "cell_type": "code",
   "execution_count": 2,
   "id": "9213a022-7fe6-4e0c-b26f-9d980937f9fa",
   "metadata": {},
   "outputs": [
    {
     "name": "stdout",
     "output_type": "stream",
     "text": [
      "Requirement already satisfied: langchain in d:\\projects\\genai projects\\demo_openai_sdk\\openai_agent_sdk_env\\lib\\site-packages (0.3.27)\n",
      "Requirement already satisfied: langchain-community in d:\\projects\\genai projects\\demo_openai_sdk\\openai_agent_sdk_env\\lib\\site-packages (0.3.29)\n",
      "Requirement already satisfied: langgraph in d:\\projects\\genai projects\\demo_openai_sdk\\openai_agent_sdk_env\\lib\\site-packages (0.6.6)\n",
      "Requirement already satisfied: ollama in d:\\projects\\genai projects\\demo_openai_sdk\\openai_agent_sdk_env\\lib\\site-packages (0.5.3)\n",
      "Requirement already satisfied: langchain-ollama in d:\\projects\\genai projects\\demo_openai_sdk\\openai_agent_sdk_env\\lib\\site-packages (0.3.7)\n",
      "Requirement already satisfied: langchain-core<1.0.0,>=0.3.72 in d:\\projects\\genai projects\\demo_openai_sdk\\openai_agent_sdk_env\\lib\\site-packages (from langchain) (0.3.75)\n",
      "Requirement already satisfied: langchain-text-splitters<1.0.0,>=0.3.9 in d:\\projects\\genai projects\\demo_openai_sdk\\openai_agent_sdk_env\\lib\\site-packages (from langchain) (0.3.11)\n",
      "Requirement already satisfied: langsmith>=0.1.17 in d:\\projects\\genai projects\\demo_openai_sdk\\openai_agent_sdk_env\\lib\\site-packages (from langchain) (0.4.23)\n",
      "Requirement already satisfied: pydantic<3.0.0,>=2.7.4 in d:\\projects\\genai projects\\demo_openai_sdk\\openai_agent_sdk_env\\lib\\site-packages (from langchain) (2.11.7)\n",
      "Requirement already satisfied: SQLAlchemy<3,>=1.4 in d:\\projects\\genai projects\\demo_openai_sdk\\openai_agent_sdk_env\\lib\\site-packages (from langchain) (2.0.43)\n",
      "Requirement already satisfied: requests<3,>=2 in d:\\projects\\genai projects\\demo_openai_sdk\\openai_agent_sdk_env\\lib\\site-packages (from langchain) (2.32.5)\n",
      "Requirement already satisfied: PyYAML>=5.3 in d:\\projects\\genai projects\\demo_openai_sdk\\openai_agent_sdk_env\\lib\\site-packages (from langchain) (6.0.2)\n",
      "Requirement already satisfied: tenacity!=8.4.0,<10.0.0,>=8.1.0 in d:\\projects\\genai projects\\demo_openai_sdk\\openai_agent_sdk_env\\lib\\site-packages (from langchain-core<1.0.0,>=0.3.72->langchain) (9.1.2)\n",
      "Requirement already satisfied: jsonpatch<2.0,>=1.33 in d:\\projects\\genai projects\\demo_openai_sdk\\openai_agent_sdk_env\\lib\\site-packages (from langchain-core<1.0.0,>=0.3.72->langchain) (1.33)\n",
      "Requirement already satisfied: typing-extensions>=4.7 in d:\\projects\\genai projects\\demo_openai_sdk\\openai_agent_sdk_env\\lib\\site-packages (from langchain-core<1.0.0,>=0.3.72->langchain) (4.15.0)\n",
      "Requirement already satisfied: packaging>=23.2 in d:\\projects\\genai projects\\demo_openai_sdk\\openai_agent_sdk_env\\lib\\site-packages (from langchain-core<1.0.0,>=0.3.72->langchain) (25.0)\n",
      "Requirement already satisfied: jsonpointer>=1.9 in d:\\projects\\genai projects\\demo_openai_sdk\\openai_agent_sdk_env\\lib\\site-packages (from jsonpatch<2.0,>=1.33->langchain-core<1.0.0,>=0.3.72->langchain) (3.0.0)\n",
      "Requirement already satisfied: annotated-types>=0.6.0 in d:\\projects\\genai projects\\demo_openai_sdk\\openai_agent_sdk_env\\lib\\site-packages (from pydantic<3.0.0,>=2.7.4->langchain) (0.7.0)\n",
      "Requirement already satisfied: pydantic-core==2.33.2 in d:\\projects\\genai projects\\demo_openai_sdk\\openai_agent_sdk_env\\lib\\site-packages (from pydantic<3.0.0,>=2.7.4->langchain) (2.33.2)\n",
      "Requirement already satisfied: typing-inspection>=0.4.0 in d:\\projects\\genai projects\\demo_openai_sdk\\openai_agent_sdk_env\\lib\\site-packages (from pydantic<3.0.0,>=2.7.4->langchain) (0.4.1)\n",
      "Requirement already satisfied: charset_normalizer<4,>=2 in d:\\projects\\genai projects\\demo_openai_sdk\\openai_agent_sdk_env\\lib\\site-packages (from requests<3,>=2->langchain) (3.4.3)\n",
      "Requirement already satisfied: idna<4,>=2.5 in d:\\projects\\genai projects\\demo_openai_sdk\\openai_agent_sdk_env\\lib\\site-packages (from requests<3,>=2->langchain) (3.10)\n",
      "Requirement already satisfied: urllib3<3,>=1.21.1 in d:\\projects\\genai projects\\demo_openai_sdk\\openai_agent_sdk_env\\lib\\site-packages (from requests<3,>=2->langchain) (2.5.0)\n",
      "Requirement already satisfied: certifi>=2017.4.17 in d:\\projects\\genai projects\\demo_openai_sdk\\openai_agent_sdk_env\\lib\\site-packages (from requests<3,>=2->langchain) (2025.8.3)\n",
      "Requirement already satisfied: greenlet>=1 in d:\\projects\\genai projects\\demo_openai_sdk\\openai_agent_sdk_env\\lib\\site-packages (from SQLAlchemy<3,>=1.4->langchain) (3.2.4)\n",
      "Requirement already satisfied: aiohttp<4.0.0,>=3.8.3 in d:\\projects\\genai projects\\demo_openai_sdk\\openai_agent_sdk_env\\lib\\site-packages (from langchain-community) (3.12.15)\n",
      "Requirement already satisfied: dataclasses-json<0.7,>=0.6.7 in d:\\projects\\genai projects\\demo_openai_sdk\\openai_agent_sdk_env\\lib\\site-packages (from langchain-community) (0.6.7)\n",
      "Requirement already satisfied: pydantic-settings<3.0.0,>=2.10.1 in d:\\projects\\genai projects\\demo_openai_sdk\\openai_agent_sdk_env\\lib\\site-packages (from langchain-community) (2.10.1)\n",
      "Requirement already satisfied: httpx-sse<1.0.0,>=0.4.0 in d:\\projects\\genai projects\\demo_openai_sdk\\openai_agent_sdk_env\\lib\\site-packages (from langchain-community) (0.4.1)\n",
      "Requirement already satisfied: numpy>=1.26.2 in d:\\projects\\genai projects\\demo_openai_sdk\\openai_agent_sdk_env\\lib\\site-packages (from langchain-community) (2.3.2)\n",
      "Requirement already satisfied: aiohappyeyeballs>=2.5.0 in d:\\projects\\genai projects\\demo_openai_sdk\\openai_agent_sdk_env\\lib\\site-packages (from aiohttp<4.0.0,>=3.8.3->langchain-community) (2.6.1)\n",
      "Requirement already satisfied: aiosignal>=1.4.0 in d:\\projects\\genai projects\\demo_openai_sdk\\openai_agent_sdk_env\\lib\\site-packages (from aiohttp<4.0.0,>=3.8.3->langchain-community) (1.4.0)\n",
      "Requirement already satisfied: attrs>=17.3.0 in d:\\projects\\genai projects\\demo_openai_sdk\\openai_agent_sdk_env\\lib\\site-packages (from aiohttp<4.0.0,>=3.8.3->langchain-community) (25.3.0)\n",
      "Requirement already satisfied: frozenlist>=1.1.1 in d:\\projects\\genai projects\\demo_openai_sdk\\openai_agent_sdk_env\\lib\\site-packages (from aiohttp<4.0.0,>=3.8.3->langchain-community) (1.7.0)\n",
      "Requirement already satisfied: multidict<7.0,>=4.5 in d:\\projects\\genai projects\\demo_openai_sdk\\openai_agent_sdk_env\\lib\\site-packages (from aiohttp<4.0.0,>=3.8.3->langchain-community) (6.6.4)\n",
      "Requirement already satisfied: propcache>=0.2.0 in d:\\projects\\genai projects\\demo_openai_sdk\\openai_agent_sdk_env\\lib\\site-packages (from aiohttp<4.0.0,>=3.8.3->langchain-community) (0.3.2)\n",
      "Requirement already satisfied: yarl<2.0,>=1.17.0 in d:\\projects\\genai projects\\demo_openai_sdk\\openai_agent_sdk_env\\lib\\site-packages (from aiohttp<4.0.0,>=3.8.3->langchain-community) (1.20.1)\n",
      "Requirement already satisfied: marshmallow<4.0.0,>=3.18.0 in d:\\projects\\genai projects\\demo_openai_sdk\\openai_agent_sdk_env\\lib\\site-packages (from dataclasses-json<0.7,>=0.6.7->langchain-community) (3.26.1)\n",
      "Requirement already satisfied: typing-inspect<1,>=0.4.0 in d:\\projects\\genai projects\\demo_openai_sdk\\openai_agent_sdk_env\\lib\\site-packages (from dataclasses-json<0.7,>=0.6.7->langchain-community) (0.9.0)\n",
      "Requirement already satisfied: python-dotenv>=0.21.0 in d:\\projects\\genai projects\\demo_openai_sdk\\openai_agent_sdk_env\\lib\\site-packages (from pydantic-settings<3.0.0,>=2.10.1->langchain-community) (1.1.1)\n",
      "Requirement already satisfied: mypy-extensions>=0.3.0 in d:\\projects\\genai projects\\demo_openai_sdk\\openai_agent_sdk_env\\lib\\site-packages (from typing-inspect<1,>=0.4.0->dataclasses-json<0.7,>=0.6.7->langchain-community) (1.1.0)\n",
      "Requirement already satisfied: langgraph-checkpoint<3.0.0,>=2.1.0 in d:\\projects\\genai projects\\demo_openai_sdk\\openai_agent_sdk_env\\lib\\site-packages (from langgraph) (2.1.1)\n",
      "Requirement already satisfied: langgraph-prebuilt<0.7.0,>=0.6.0 in d:\\projects\\genai projects\\demo_openai_sdk\\openai_agent_sdk_env\\lib\\site-packages (from langgraph) (0.6.4)\n",
      "Requirement already satisfied: langgraph-sdk<0.3.0,>=0.2.2 in d:\\projects\\genai projects\\demo_openai_sdk\\openai_agent_sdk_env\\lib\\site-packages (from langgraph) (0.2.6)\n",
      "Requirement already satisfied: xxhash>=3.5.0 in d:\\projects\\genai projects\\demo_openai_sdk\\openai_agent_sdk_env\\lib\\site-packages (from langgraph) (3.5.0)\n",
      "Requirement already satisfied: ormsgpack>=1.10.0 in d:\\projects\\genai projects\\demo_openai_sdk\\openai_agent_sdk_env\\lib\\site-packages (from langgraph-checkpoint<3.0.0,>=2.1.0->langgraph) (1.10.0)\n",
      "Requirement already satisfied: httpx>=0.25.2 in d:\\projects\\genai projects\\demo_openai_sdk\\openai_agent_sdk_env\\lib\\site-packages (from langgraph-sdk<0.3.0,>=0.2.2->langgraph) (0.28.1)\n",
      "Requirement already satisfied: orjson>=3.10.1 in d:\\projects\\genai projects\\demo_openai_sdk\\openai_agent_sdk_env\\lib\\site-packages (from langgraph-sdk<0.3.0,>=0.2.2->langgraph) (3.11.3)\n",
      "Requirement already satisfied: anyio in d:\\projects\\genai projects\\demo_openai_sdk\\openai_agent_sdk_env\\lib\\site-packages (from httpx>=0.25.2->langgraph-sdk<0.3.0,>=0.2.2->langgraph) (4.10.0)\n",
      "Requirement already satisfied: httpcore==1.* in d:\\projects\\genai projects\\demo_openai_sdk\\openai_agent_sdk_env\\lib\\site-packages (from httpx>=0.25.2->langgraph-sdk<0.3.0,>=0.2.2->langgraph) (1.0.9)\n",
      "Requirement already satisfied: h11>=0.16 in d:\\projects\\genai projects\\demo_openai_sdk\\openai_agent_sdk_env\\lib\\site-packages (from httpcore==1.*->httpx>=0.25.2->langgraph-sdk<0.3.0,>=0.2.2->langgraph) (0.16.0)\n",
      "Requirement already satisfied: requests-toolbelt>=1.0.0 in d:\\projects\\genai projects\\demo_openai_sdk\\openai_agent_sdk_env\\lib\\site-packages (from langsmith>=0.1.17->langchain) (1.0.0)\n",
      "Requirement already satisfied: zstandard>=0.23.0 in d:\\projects\\genai projects\\demo_openai_sdk\\openai_agent_sdk_env\\lib\\site-packages (from langsmith>=0.1.17->langchain) (0.24.0)\n",
      "Requirement already satisfied: sniffio>=1.1 in d:\\projects\\genai projects\\demo_openai_sdk\\openai_agent_sdk_env\\lib\\site-packages (from anyio->httpx>=0.25.2->langgraph-sdk<0.3.0,>=0.2.2->langgraph) (1.3.1)\n",
      "Note: you may need to restart the kernel to use updated packages.\n"
     ]
    }
   ],
   "source": [
    "%pip install --upgrade langchain langchain-community langgraph ollama langchain-ollama"
   ]
  },
  {
   "cell_type": "code",
   "execution_count": 4,
   "id": "09a6612f",
   "metadata": {},
   "outputs": [],
   "source": [
    "from IPython.display import display, Image\n",
    "from langgraph.graph import StateGraph, START\n",
    "from langchain_ollama import ChatOllama\n",
    "import requests\n",
    "from langchain_core.messages import SystemMessage, HumanMessage\n",
    "from langgraph.graph import MessagesState\n",
    "\n",
    "from langgraph.prebuilt import ToolNode, tools_condition\n",
    "\n",
    "from typing import Annotated\n",
    "from typing_extensions import TypedDict\n",
    "from langgraph.graph.message import add_messages\n",
    "\n"
   ]
  },
  {
   "cell_type": "code",
   "execution_count": 5,
   "id": "2c39f2ca",
   "metadata": {},
   "outputs": [],
   "source": [
    "class State(TypedDict):\n",
    "    messages: Annotated[list,add_messages]"
   ]
  },
  {
   "cell_type": "code",
   "execution_count": null,
   "id": "5434cefa",
   "metadata": {},
   "outputs": [],
   "source": [
    "%pip install -U duckduckgo-search"
   ]
  },
  {
   "cell_type": "code",
   "execution_count": 8,
   "id": "e3daa7c2",
   "metadata": {},
   "outputs": [
    {
     "data": {
      "text/plain": [
       "\"Abraham Lincoln[b] (February 12, 1809 – April 15, 1865) was the 16th president of the United States , serving from 1861 until his assassination in 1865. He led the United States through the American Civil War, defeating the Confederate States and playing a major role in the abolition of slavery. Abraham Lincoln was a member of the Whig Party and later a Republican. He believed that the government’s job was to do what a community of people could not do for themselves. One of his greatest preoccupations as a political thinker was the issue of self-governance and the promise and problems that could arise from it. The choice by some to allow the expansion of slavery was one such problem and was central to the American Civil War. Although opposed to slavery from the outset of his political career, Lincoln would not make its abolition a mainstay of his policy until several years into the war. Republican Party Learn the history of the Republican Party. How did Abraham Lincoln get into politics? From 1834 to 1840, Abraham Lincoln occupied a seat in the Illinois state legislature. He also practiced law in Illinois during the 1830s and ’40s, and in that time he became one of the state’s most renowned lawyers. He first entered national politics in 1847 while serving a single term in Congress. In 1858 he made a bid for the Senate in a much-publicized race which he ultimately lost but which transformed him into a nationally recognized political figure. In 1860 he was nominated at the Republican National Convention to be the party’s presidential candidate, and he embarked on a presidential campaign that he would win. Read more below: Life: Early political career See full list on britannica.com Lincoln was born in a backwoods cabin 3 miles (5 km) south of Hodgenville, Kentucky, and was taken to a farm in the neighbouring valley of Knob Creek when he was two years old. His earliest memories were of this home and, in particular, of a flash flood that once washed away the corn and pumpkin seeds he had helped his father plant. His father, Tho... See full list on britannica.com In December 1816, faced with a lawsuit challenging the title to his Kentucky farm, Thomas Lincoln moved with his family to southwestern Indiana. There, as a squatter on public land, he hastily put up a “half-faced camp”—a crude structure of logs and boughs with one side open to the weather—in which the family took shelter behind a blazing fire. Soon he built a permanent cabin, and later he bought the land on which it stood. Abraham helped to clear the fields and to take care of the crops but early acquired a dislike for hunting and fishing. In afteryears he recalled the “panther’s scream,” the bears that “preyed on the swine,” and the poverty of Indiana frontier life, which was “pretty pinching at times.” The unhappiest period of his boyhood followed the death of his mother in the autumn of 1818. As a ragged nine-year-old, he saw her buried in the forest, then faced a winter without the warmth of a mother’s love. Fortunately, before the onset of a second winter, Thomas Lincoln brought home from Kentucky a new wife for himself, a new mother for the children. Sarah Bush Johnston Lincoln , a widow with two girls and a boy of her own, had energy and affection to spare. She ran the household with an even hand, treating both sets of children as if she had borne them all; but she became especially fond of Abraham , and he of her. He afterward referred to her as his “angel mother.” Britannica Quiz American Civil War Quiz His stepmother doubtless encouraged Lincoln ’s taste for reading, yet the original source of his desire to learn remains something of a mystery. Both his parents were almost completely illiterate, and he himself received little formal education. He once said that, as a boy, he had gone to school “by littles”—a little now and a little then—and his entire schooling amounted to no more than one year’s attendance. His neighbours later recalled how he used to trudge for miles to borrow a book. According to his own statement, however, his early surroundings provided “absolutely nothing to excite ambition for education. Of course, when I came of age I did not know much. Still, somehow, I could read, write, and cipher to the rule of three; but that was all.” Apparently the young Lincoln did not read a large number of books but thoroughly absorbed the few that he did read. These included Parson Weems’s Life and Memorable Actions of George Washington (with its story of the little hatchet and the cherry tree), Daniel Defoe’s Robinson Crusoe, John Bunyan’s Pilgrim’s Progress, and Aesop’s Fables. From his earliest days he must have had some familiarity with the Bible, for it doubtless was the only book his family owned. In March 1830 the Lincoln family undertook a second migration, this time to Illinois, with Lincoln himself driving the team of oxen. Having just reached the age of 21, he was about to begin life on his own. Six feet four inches tall, he was rawboned and lanky but muscular and physically powerful. He was especially noted for the skill and strength with which he could wield an ax. He spoke with a backwoods twang and walked in the long-striding, flat-footed, cautious manner of a plowman. Good-natured though somewhat moody, talented as a mimic and storyteller, he readily attracted friends. But he was yet to demonstrate whatever other abilities he possessed. Students save 67%! Learn more about our special academic rate today. See full list on britannica.com Jul 14, 2023 · Abraham Lincoln was the 16 th president of the United States , serving from 1861 to 1865, and is regarded as one of America’s greatest heroes due to his roles in guiding the Union through the... View all Oct 29, 2009 · Abraham Lincoln, a self-taught lawyer, legislator and vocal opponent of slavery , was elected 16th president of the United States in November 1860, shortly before the outbreak of the Civil War. Abraham Lincoln became the United States’ 16th President in 1861, issuing the Emancipation Proclamation that declared forever free those slaves within the Confederacy in 1863. Abraham Lincoln , the 16th President of the United States, is known for leading the nation during the Civil War, enacting the Emancipation Proclamation, and... Where can I find a biography of Abraham Lincoln? Surname index of the biographical sketches in the Abraham Lincon Presidential Library's collection of Illinois county histories. Public portal to search the Abraham Lincoln Presidential Library and Museum collections. The purpose of this service is to advise Illinois companies of DOI's procedures and guidelines regarding producer licensing. How did Lincoln reshape the Civil War? On January 1, 1863, Lincoln delivered his official Emancipation Proclamation, reshaping the cause of the Civil War from saving the Union to abolishing slavery . The Union Army’s first year and a half of battlefield defeats made it difficult to keep morale high and support strong for a reunification of the nation. What did Lincoln do with slaves during the Civil War? In August 1861, Lincoln signed the Confiscation Act of 1861 , which authorized court proceedings to confiscate the slaves of anyone who participated in or aided the Confederate war effort. The act however, did not specify whether the slaves were free. Jan 3, 2025 · Abraham Lincoln, the 16th president of the United States , is celebrated for his remarkable successes and achievements, particularly during one of the nation’s most tumultuous periods—the Civil War. His leadership was instrumental in preserving the Union and ultimately led to the abolition of slavery in the United States. Oct 29, 2009 · Abraham Lincoln, a self-taught lawyer, legislator and vocal opponent of slavery , was elected 16th president of the United States in November 1860, shortly before the outbreak of the Civil War. Jul 14, 2023 · Abraham Lincoln was the 16 th president of the United States , serving from 1861 to 1865, and is regarded as one of America’s greatest heroes due to his roles in guiding the Union through the... View all Oct 29, 2009 · Abraham Lincoln, a self-taught lawyer, legislator and vocal opponent of slavery , was elected 16th president of the United States in November 1860, shortly before the outbreak of the Civil War. Abraham Lincoln became the United States’ 16th President in 1861, issuing the Emancipation Proclamation that declared forever free those slaves within the Confederacy in 1863. Abraham Lincoln , the 16th President of the United States, is known for leading the nation during the Civil War, enacting the Emancipation Proclamation, and... Where can I find a biography of Abraham Lincoln? Surname index of the biographical sketches in the Abraham Lincon Presidential Library's collection of Illinois county histories. Public portal to search the Abraham Lincoln Presidential Library and Museum collections. The purpose of this service is to advise Illinois companies of DOI's procedures and guidelines regarding producer licensing. How did Lincoln reshape the Civil War? On January 1, 1863, Lincoln delivered his official Emancipation Proclamation, reshaping the cause of the Civil War from saving the Union to abolishing slavery . The Union Army’s first year and a half of battlefield defeats made it difficult to keep morale high and support strong for a reunification of the nation. What did Lincoln do with slaves during the Civil War? In August 1861, Lincoln signed the Confiscation Act of 1861 , which authorized court proceedings to confiscate the slaves of anyone who participated in or aided the Confederate war effort. The act however, did not specify whether the slaves were free. Jan 3, 2025 · Abraham Lincoln, the 16th president of the United States , is celebrated for his remarkable successes and achievements, particularly during one of the nation’s most tumultuous periods—the Civil War. His leadership was instrumental in preserving the Union and ultimately led to the abolition of slavery in the United States. Abraham Lincoln became the United States’ 16th President in 1861, issuing the Emancipation Proclamation that declared forever free those slaves within the Confederacy in 1863.\""
      ]
     },
     "execution_count": 8,
     "metadata": {},
     "output_type": "execute_result"
    }
   ],
   "source": [
    "from langchain_community.tools import DuckDuckGoSearchRun\n",
    "search = DuckDuckGoSearchRun()\n",
    "search.invoke(\"Who was Abhram Lincoln?\")\n"
   ]
  },
  {
   "cell_type": "code",
   "execution_count": 9,
   "id": "f833e595",
   "metadata": {},
   "outputs": [
    {
     "name": "stdout",
     "output_type": "stream",
     "text": [
      "1 day ago - Abraham Lincoln (February 12, 1809 – April 15, 1865) was the 16th president of the United States , serving from 1861 until his assassination in 1865. He led the United States through the American Civil War, defeating the Confederate States and playing a major role in the abolition of slavery. 4 days ago - On April 14, 1865, Abraham Lincoln, the 16th president of the United States , was shot by John Wilkes Booth while attending the play Our American Cousin at Ford's Theatre in Washington, D.C. Shot in the head as he watched the play, Lincoln died of his wounds the following day at 7:22 a.m. in ... August 4, 2025 - Abraham Lincoln (/ˈlɪŋkən/ LINK-ən; February 12, 1809 – April 15, 1865) was an American politician who served as the 16th president of the United States from 1861 until his assassination in 1865 . He led the United States through the American Civil War, defeating the Confederate States ... 2 weeks ago - Abraham Lincoln was born on February 12, 1809, in a one-room log cabin on the Sinking Spring farm, south of Hodgenville in Hardin County, Kentucky. His siblings were Sarah Lincoln Grigsby and Thomas Lincoln , Jr. After a land title dispute forced the family to leave in 1811, they relocated to ... 2 weeks ago - A former Whig , Lincoln ran on a political platform opposed to the expansion of slavery in the territories. His election served as the immediate impetus for the outbreak of the Civil War. After being sworn in as president, Lincoln refused to accept any resolution that would result in Southern ...\n"
     ]
    }
   ],
   "source": [
    "from langchain_community.tools import DuckDuckGoSearchRun\n",
    "def seach_duckduckgo(query: str) -> str:\n",
    "    \"\"\"Searches DuckDuckGo using langchain_community's DuckDuckGoSearchRun tool.\"\"\"\n",
    "    search = DuckDuckGoSearchRun()\n",
    "    return search.invoke(query)\n",
    "\n",
    "result = seach_duckduckgo(\"Who was Abraham Lincoln?\")\n",
    "print(result)\n",
    "\n",
    "\n"
   ]
  },
  {
   "cell_type": "code",
   "execution_count": 45,
   "id": "e3e7a771",
   "metadata": {},
   "outputs": [],
   "source": [
    "def multiply(a: int, b: int) -> int:\n",
    "    \"\"\"Multiply a and b\"\"\"\n",
    "    return a * b\n",
    "\n",
    "\n",
    "def add(a: int, b: int) -> int:\n",
    "    \"\"\"\n",
    "    add  a and b\n",
    "    \"\"\"\n",
    "    return a + b"
   ]
  },
  {
   "cell_type": "code",
   "execution_count": 12,
   "id": "16f3a587",
   "metadata": {},
   "outputs": [],
   "source": [
    "from langchain_ollama import ChatOllama\n",
    "llm = ChatOllama(model=\"llama3.2\", temperature=0)\n"
   ]
  },
  {
   "cell_type": "code",
   "execution_count": 13,
   "id": "0074ad42",
   "metadata": {},
   "outputs": [
    {
     "data": {
      "text/plain": [
       "'Hello! How can I assist you today?'"
      ]
     },
     "execution_count": 13,
     "metadata": {},
     "output_type": "execute_result"
    }
   ],
   "source": [
    "llm.invoke('hello').content"
   ]
  },
  {
   "cell_type": "code",
   "execution_count": null,
   "id": "f656df75",
   "metadata": {},
   "outputs": [],
   "source": [
    "tools =[seach_duckduckgo, add, multiply]\n",
    "llm_with_tools = llm.bind_tools(tools)\n"
   ]
  },
  {
   "cell_type": "code",
   "execution_count": 46,
   "id": "24b1ac0d",
   "metadata": {},
   "outputs": [],
   "source": [
    "# Corrected chatbot function\n",
    "def chatbot(state: State):\n",
    "    return {\"message\": [llm_with_tools.invoke(state[\"messages\"])]}"
   ]
  },
  {
   "cell_type": "code",
   "execution_count": 42,
   "id": "648d5dbe",
   "metadata": {},
   "outputs": [],
   "source": [
    "from langgraph.prebuilt import ToolNode, tools_condition\n",
    "\n",
    "graph_builder = StateGraph(State)\n",
    "\n",
    "# Define Nodes\n",
    "graph_builder.add_node(\"assistant\", chatbot)\n",
    "graph_builder.add_node(\"tools\", ToolNode(tools))\n",
    "\n",
    "# Define Edges\n",
    "graph_builder.add_edge(START, \"assistant\")\n",
    "graph_builder.add_conditional_edges(\"assistant\", tools_condition)\n",
    "graph_builder.add_edge(\"tools\", \"assistant\")\n",
    "react_graph = graph_builder.compile()"
   ]
  },
  {
   "cell_type": "code",
   "execution_count": null,
   "id": "36fc2c3d",
   "metadata": {},
   "outputs": [],
   "source": [
    "display(Image(react_graph.get_graph().draw_mermaid_png())) "
   ]
  },
  {
   "cell_type": "code",
   "execution_count": 48,
   "id": "66275c4a",
   "metadata": {},
   "outputs": [
    {
     "name": "stdout",
     "output_type": "stream",
     "text": [
      "[HumanMessage(content=\"what was Abraham Lincoln' birth year? add 2 to it and multiply by 3\", additional_kwargs={}, response_metadata={}, id='7aa852a6-f14f-4bac-8063-867f1e26412b'), AIMessage(content='', additional_kwargs={}, response_metadata={}, id='4eba3a02-8056-4852-ac05-3c1a93cfe6f0'), AIMessage(content='', additional_kwargs={}, response_metadata={}, id='bca6302c-cb8c-4847-a0b0-9ff7eddc1c6f')]\n"
     ]
    }
   ],
   "source": [
    "response = react_graph.invoke({\"messages\": [HumanMessage(content=\"what was Abraham Lincoln' birth year? add 2 to it and multiply by 3\")]})\n",
    "print(response['messages'])\n",
    "    "
   ]
  },
  {
   "cell_type": "code",
   "execution_count": null,
   "id": "c6a0c490",
   "metadata": {},
   "outputs": [],
   "source": [
    "from m in response['messages']:\n",
    "m.preetty_print()"
   ]
  }
 ],
 "metadata": {
  "kernelspec": {
   "display_name": "openai_agent_sdk_env",
   "language": "python",
   "name": "python3"
  },
  "language_info": {
   "codemirror_mode": {
    "name": "ipython",
    "version": 3
   },
   "file_extension": ".py",
   "mimetype": "text/x-python",
   "name": "python",
   "nbconvert_exporter": "python",
   "pygments_lexer": "ipython3",
   "version": "3.12.3"
  }
 },
 "nbformat": 4,
 "nbformat_minor": 5
}
