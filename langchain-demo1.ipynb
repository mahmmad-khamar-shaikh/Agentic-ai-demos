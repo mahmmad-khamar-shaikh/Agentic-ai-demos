{
 "cells": [
  {
   "cell_type": "code",
   "execution_count": 1,
   "id": "4c255e0f-abba-4689-9a5b-00adf716c5ae",
   "metadata": {},
   "outputs": [
    {
     "name": "stdout",
     "output_type": "stream",
     "text": [
      "Requirement already satisfied: langchain in d:\\projects\\genai projects\\demo_openai_sdk\\openai_agent_sdk_env\\lib\\site-packages (0.3.27)\n",
      "Requirement already satisfied: langchain-community in d:\\projects\\genai projects\\demo_openai_sdk\\openai_agent_sdk_env\\lib\\site-packages (0.3.29)\n",
      "Requirement already satisfied: langgraph in d:\\projects\\genai projects\\demo_openai_sdk\\openai_agent_sdk_env\\lib\\site-packages (0.6.6)\n",
      "Requirement already satisfied: ollama in d:\\projects\\genai projects\\demo_openai_sdk\\openai_agent_sdk_env\\lib\\site-packages (0.5.3)\n",
      "Requirement already satisfied: langchain-ollama in d:\\projects\\genai projects\\demo_openai_sdk\\openai_agent_sdk_env\\lib\\site-packages (0.3.7)\n",
      "Requirement already satisfied: wikipedia in d:\\projects\\genai projects\\demo_openai_sdk\\openai_agent_sdk_env\\lib\\site-packages (1.4.0)\n",
      "Requirement already satisfied: langchain-core<1.0.0,>=0.3.72 in d:\\projects\\genai projects\\demo_openai_sdk\\openai_agent_sdk_env\\lib\\site-packages (from langchain) (0.3.75)\n",
      "Requirement already satisfied: langchain-text-splitters<1.0.0,>=0.3.9 in d:\\projects\\genai projects\\demo_openai_sdk\\openai_agent_sdk_env\\lib\\site-packages (from langchain) (0.3.11)\n",
      "Requirement already satisfied: langsmith>=0.1.17 in d:\\projects\\genai projects\\demo_openai_sdk\\openai_agent_sdk_env\\lib\\site-packages (from langchain) (0.4.23)\n",
      "Requirement already satisfied: pydantic<3.0.0,>=2.7.4 in d:\\projects\\genai projects\\demo_openai_sdk\\openai_agent_sdk_env\\lib\\site-packages (from langchain) (2.11.7)\n",
      "Requirement already satisfied: SQLAlchemy<3,>=1.4 in d:\\projects\\genai projects\\demo_openai_sdk\\openai_agent_sdk_env\\lib\\site-packages (from langchain) (2.0.43)\n",
      "Requirement already satisfied: requests<3,>=2 in d:\\projects\\genai projects\\demo_openai_sdk\\openai_agent_sdk_env\\lib\\site-packages (from langchain) (2.32.5)\n",
      "Requirement already satisfied: PyYAML>=5.3 in d:\\projects\\genai projects\\demo_openai_sdk\\openai_agent_sdk_env\\lib\\site-packages (from langchain) (6.0.2)\n",
      "Requirement already satisfied: tenacity!=8.4.0,<10.0.0,>=8.1.0 in d:\\projects\\genai projects\\demo_openai_sdk\\openai_agent_sdk_env\\lib\\site-packages (from langchain-core<1.0.0,>=0.3.72->langchain) (9.1.2)\n",
      "Requirement already satisfied: jsonpatch<2.0,>=1.33 in d:\\projects\\genai projects\\demo_openai_sdk\\openai_agent_sdk_env\\lib\\site-packages (from langchain-core<1.0.0,>=0.3.72->langchain) (1.33)\n",
      "Requirement already satisfied: typing-extensions>=4.7 in d:\\projects\\genai projects\\demo_openai_sdk\\openai_agent_sdk_env\\lib\\site-packages (from langchain-core<1.0.0,>=0.3.72->langchain) (4.15.0)\n",
      "Requirement already satisfied: packaging>=23.2 in d:\\projects\\genai projects\\demo_openai_sdk\\openai_agent_sdk_env\\lib\\site-packages (from langchain-core<1.0.0,>=0.3.72->langchain) (25.0)\n",
      "Requirement already satisfied: jsonpointer>=1.9 in d:\\projects\\genai projects\\demo_openai_sdk\\openai_agent_sdk_env\\lib\\site-packages (from jsonpatch<2.0,>=1.33->langchain-core<1.0.0,>=0.3.72->langchain) (3.0.0)\n",
      "Requirement already satisfied: annotated-types>=0.6.0 in d:\\projects\\genai projects\\demo_openai_sdk\\openai_agent_sdk_env\\lib\\site-packages (from pydantic<3.0.0,>=2.7.4->langchain) (0.7.0)\n",
      "Requirement already satisfied: pydantic-core==2.33.2 in d:\\projects\\genai projects\\demo_openai_sdk\\openai_agent_sdk_env\\lib\\site-packages (from pydantic<3.0.0,>=2.7.4->langchain) (2.33.2)\n",
      "Requirement already satisfied: typing-inspection>=0.4.0 in d:\\projects\\genai projects\\demo_openai_sdk\\openai_agent_sdk_env\\lib\\site-packages (from pydantic<3.0.0,>=2.7.4->langchain) (0.4.1)\n",
      "Requirement already satisfied: charset_normalizer<4,>=2 in d:\\projects\\genai projects\\demo_openai_sdk\\openai_agent_sdk_env\\lib\\site-packages (from requests<3,>=2->langchain) (3.4.3)\n",
      "Requirement already satisfied: idna<4,>=2.5 in d:\\projects\\genai projects\\demo_openai_sdk\\openai_agent_sdk_env\\lib\\site-packages (from requests<3,>=2->langchain) (3.10)\n",
      "Requirement already satisfied: urllib3<3,>=1.21.1 in d:\\projects\\genai projects\\demo_openai_sdk\\openai_agent_sdk_env\\lib\\site-packages (from requests<3,>=2->langchain) (2.5.0)\n",
      "Requirement already satisfied: certifi>=2017.4.17 in d:\\projects\\genai projects\\demo_openai_sdk\\openai_agent_sdk_env\\lib\\site-packages (from requests<3,>=2->langchain) (2025.8.3)\n",
      "Requirement already satisfied: greenlet>=1 in d:\\projects\\genai projects\\demo_openai_sdk\\openai_agent_sdk_env\\lib\\site-packages (from SQLAlchemy<3,>=1.4->langchain) (3.2.4)\n",
      "Requirement already satisfied: aiohttp<4.0.0,>=3.8.3 in d:\\projects\\genai projects\\demo_openai_sdk\\openai_agent_sdk_env\\lib\\site-packages (from langchain-community) (3.12.15)\n",
      "Requirement already satisfied: dataclasses-json<0.7,>=0.6.7 in d:\\projects\\genai projects\\demo_openai_sdk\\openai_agent_sdk_env\\lib\\site-packages (from langchain-community) (0.6.7)\n",
      "Requirement already satisfied: pydantic-settings<3.0.0,>=2.10.1 in d:\\projects\\genai projects\\demo_openai_sdk\\openai_agent_sdk_env\\lib\\site-packages (from langchain-community) (2.10.1)\n",
      "Requirement already satisfied: httpx-sse<1.0.0,>=0.4.0 in d:\\projects\\genai projects\\demo_openai_sdk\\openai_agent_sdk_env\\lib\\site-packages (from langchain-community) (0.4.1)\n",
      "Requirement already satisfied: numpy>=1.26.2 in d:\\projects\\genai projects\\demo_openai_sdk\\openai_agent_sdk_env\\lib\\site-packages (from langchain-community) (2.3.2)\n",
      "Requirement already satisfied: aiohappyeyeballs>=2.5.0 in d:\\projects\\genai projects\\demo_openai_sdk\\openai_agent_sdk_env\\lib\\site-packages (from aiohttp<4.0.0,>=3.8.3->langchain-community) (2.6.1)\n",
      "Requirement already satisfied: aiosignal>=1.4.0 in d:\\projects\\genai projects\\demo_openai_sdk\\openai_agent_sdk_env\\lib\\site-packages (from aiohttp<4.0.0,>=3.8.3->langchain-community) (1.4.0)\n",
      "Requirement already satisfied: attrs>=17.3.0 in d:\\projects\\genai projects\\demo_openai_sdk\\openai_agent_sdk_env\\lib\\site-packages (from aiohttp<4.0.0,>=3.8.3->langchain-community) (25.3.0)\n",
      "Requirement already satisfied: frozenlist>=1.1.1 in d:\\projects\\genai projects\\demo_openai_sdk\\openai_agent_sdk_env\\lib\\site-packages (from aiohttp<4.0.0,>=3.8.3->langchain-community) (1.7.0)\n",
      "Requirement already satisfied: multidict<7.0,>=4.5 in d:\\projects\\genai projects\\demo_openai_sdk\\openai_agent_sdk_env\\lib\\site-packages (from aiohttp<4.0.0,>=3.8.3->langchain-community) (6.6.4)\n",
      "Requirement already satisfied: propcache>=0.2.0 in d:\\projects\\genai projects\\demo_openai_sdk\\openai_agent_sdk_env\\lib\\site-packages (from aiohttp<4.0.0,>=3.8.3->langchain-community) (0.3.2)\n",
      "Requirement already satisfied: yarl<2.0,>=1.17.0 in d:\\projects\\genai projects\\demo_openai_sdk\\openai_agent_sdk_env\\lib\\site-packages (from aiohttp<4.0.0,>=3.8.3->langchain-community) (1.20.1)\n",
      "Requirement already satisfied: marshmallow<4.0.0,>=3.18.0 in d:\\projects\\genai projects\\demo_openai_sdk\\openai_agent_sdk_env\\lib\\site-packages (from dataclasses-json<0.7,>=0.6.7->langchain-community) (3.26.1)\n",
      "Requirement already satisfied: typing-inspect<1,>=0.4.0 in d:\\projects\\genai projects\\demo_openai_sdk\\openai_agent_sdk_env\\lib\\site-packages (from dataclasses-json<0.7,>=0.6.7->langchain-community) (0.9.0)\n",
      "Requirement already satisfied: python-dotenv>=0.21.0 in d:\\projects\\genai projects\\demo_openai_sdk\\openai_agent_sdk_env\\lib\\site-packages (from pydantic-settings<3.0.0,>=2.10.1->langchain-community) (1.1.1)\n",
      "Requirement already satisfied: mypy-extensions>=0.3.0 in d:\\projects\\genai projects\\demo_openai_sdk\\openai_agent_sdk_env\\lib\\site-packages (from typing-inspect<1,>=0.4.0->dataclasses-json<0.7,>=0.6.7->langchain-community) (1.1.0)\n",
      "Requirement already satisfied: langgraph-checkpoint<3.0.0,>=2.1.0 in d:\\projects\\genai projects\\demo_openai_sdk\\openai_agent_sdk_env\\lib\\site-packages (from langgraph) (2.1.1)\n",
      "Requirement already satisfied: langgraph-prebuilt<0.7.0,>=0.6.0 in d:\\projects\\genai projects\\demo_openai_sdk\\openai_agent_sdk_env\\lib\\site-packages (from langgraph) (0.6.4)\n",
      "Requirement already satisfied: langgraph-sdk<0.3.0,>=0.2.2 in d:\\projects\\genai projects\\demo_openai_sdk\\openai_agent_sdk_env\\lib\\site-packages (from langgraph) (0.2.6)\n",
      "Requirement already satisfied: xxhash>=3.5.0 in d:\\projects\\genai projects\\demo_openai_sdk\\openai_agent_sdk_env\\lib\\site-packages (from langgraph) (3.5.0)\n",
      "Requirement already satisfied: ormsgpack>=1.10.0 in d:\\projects\\genai projects\\demo_openai_sdk\\openai_agent_sdk_env\\lib\\site-packages (from langgraph-checkpoint<3.0.0,>=2.1.0->langgraph) (1.10.0)\n",
      "Requirement already satisfied: httpx>=0.25.2 in d:\\projects\\genai projects\\demo_openai_sdk\\openai_agent_sdk_env\\lib\\site-packages (from langgraph-sdk<0.3.0,>=0.2.2->langgraph) (0.28.1)\n",
      "Requirement already satisfied: orjson>=3.10.1 in d:\\projects\\genai projects\\demo_openai_sdk\\openai_agent_sdk_env\\lib\\site-packages (from langgraph-sdk<0.3.0,>=0.2.2->langgraph) (3.11.3)\n",
      "Requirement already satisfied: beautifulsoup4 in d:\\projects\\genai projects\\demo_openai_sdk\\openai_agent_sdk_env\\lib\\site-packages (from wikipedia) (4.13.5)\n",
      "Requirement already satisfied: anyio in d:\\projects\\genai projects\\demo_openai_sdk\\openai_agent_sdk_env\\lib\\site-packages (from httpx>=0.25.2->langgraph-sdk<0.3.0,>=0.2.2->langgraph) (4.10.0)\n",
      "Requirement already satisfied: httpcore==1.* in d:\\projects\\genai projects\\demo_openai_sdk\\openai_agent_sdk_env\\lib\\site-packages (from httpx>=0.25.2->langgraph-sdk<0.3.0,>=0.2.2->langgraph) (1.0.9)\n",
      "Requirement already satisfied: h11>=0.16 in d:\\projects\\genai projects\\demo_openai_sdk\\openai_agent_sdk_env\\lib\\site-packages (from httpcore==1.*->httpx>=0.25.2->langgraph-sdk<0.3.0,>=0.2.2->langgraph) (0.16.0)\n",
      "Requirement already satisfied: requests-toolbelt>=1.0.0 in d:\\projects\\genai projects\\demo_openai_sdk\\openai_agent_sdk_env\\lib\\site-packages (from langsmith>=0.1.17->langchain) (1.0.0)\n",
      "Requirement already satisfied: zstandard>=0.23.0 in d:\\projects\\genai projects\\demo_openai_sdk\\openai_agent_sdk_env\\lib\\site-packages (from langsmith>=0.1.17->langchain) (0.24.0)\n",
      "Requirement already satisfied: sniffio>=1.1 in d:\\projects\\genai projects\\demo_openai_sdk\\openai_agent_sdk_env\\lib\\site-packages (from anyio->httpx>=0.25.2->langgraph-sdk<0.3.0,>=0.2.2->langgraph) (1.3.1)\n",
      "Requirement already satisfied: soupsieve>1.2 in d:\\projects\\genai projects\\demo_openai_sdk\\openai_agent_sdk_env\\lib\\site-packages (from beautifulsoup4->wikipedia) (2.8)\n"
     ]
    }
   ],
   "source": [
    "!pip install --upgrade langchain langchain-community langgraph ollama langchain-ollama wikipedia"
   ]
  },
  {
   "cell_type": "code",
   "execution_count": 5,
   "id": "96b504cc-e59f-4dda-8943-1b6174b12aed",
   "metadata": {},
   "outputs": [],
   "source": [
    "from langchain_community.tools import WikipediaQueryRun\n",
    "from langchain_community.utilities import WikipediaAPIWrapper\n",
    "api_wrapper = WikipediaAPIWrapper(top_k_results=1, doc_content_chars_max=100)\n",
    "wiki_tool = WikipediaQueryRun(api_wrapper=api_wrapper)"
   ]
  },
  {
   "cell_type": "code",
   "execution_count": 6,
   "id": "a37d1d00-d2cf-4884-88b3-d23bca0754b5",
   "metadata": {},
   "outputs": [
    {
     "data": {
      "text/plain": [
       "'Page: Agentic AI\\nSummary: Agentic AI is a class of artificial intelligence that focuses on autonomou'"
      ]
     },
     "execution_count": 6,
     "metadata": {},
     "output_type": "execute_result"
    }
   ],
   "source": [
    "wiki_tool.run({\"query\" : \"AI agents\"})"
   ]
  },
  {
   "cell_type": "code",
   "execution_count": 12,
   "id": "0bf1af0c-6cb6-4d42-ad92-97cda268f915",
   "metadata": {
    "scrolled": true
   },
   "outputs": [],
   "source": [
    "from langchain_ollama import OllamaLLM\n",
    "from langchain.agents import initialize_agent, Tool\n",
    "llm = OllamaLLM(model=\"llama3.2:latest\", base_url=\"http://localhost:11434\")"
   ]
  },
  {
   "cell_type": "code",
   "execution_count": 14,
   "id": "cd30196a-a43b-48bc-afd8-9f7552a3ef1c",
   "metadata": {},
   "outputs": [
    {
     "name": "stderr",
     "output_type": "stream",
     "text": [
      "C:\\Users\\shahi\\AppData\\Local\\Temp\\ipykernel_13140\\2459157619.py:2: LangChainDeprecationWarning: LangChain agents will continue to be supported, but it is recommended for new use cases to be built with LangGraph. LangGraph offers a more flexible and full-featured framework for building agents, including support for tool-calling, persistence of state, and human-in-the-loop workflows. For details, refer to the `LangGraph documentation <https://langchain-ai.github.io/langgraph/>`_ as well as guides for `Migrating from AgentExecutor <https://python.langchain.com/docs/how_to/migrate_agent/>`_ and LangGraph's `Pre-built ReAct agent <https://langchain-ai.github.io/langgraph/how-tos/create-react-agent/>`_.\n",
      "  agent = initialize_agent(tools, llm, agent=\"zero-shot-react-description\", verbose=True)\n",
      "C:\\Users\\shahi\\AppData\\Local\\Temp\\ipykernel_13140\\2459157619.py:3: LangChainDeprecationWarning: The method `Chain.run` was deprecated in langchain 0.1.0 and will be removed in 1.0. Use :meth:`~invoke` instead.\n",
      "  response = agent.run(\"What is LangChain?\")\n"
     ]
    },
    {
     "name": "stdout",
     "output_type": "stream",
     "text": [
      "\n",
      "\n",
      "\u001b[1m> Entering new AgentExecutor chain...\u001b[0m\n",
      "\u001b[32;1m\u001b[1;3mThought: I need to research what LangChain is.\n",
      "\n",
      "Action: wikipedia\n",
      "Action Input: LangChain\u001b[0m\n",
      "Observation: \u001b[36;1m\u001b[1;3mPage: LangChain\n",
      "Summary: LangChain is a software framework that helps facilitate the integration of \u001b[0m\n",
      "Thought:\u001b[32;1m\u001b[1;3m...different AI models and data sources. It enables developers to build custom workflows and pipelines for natural language processing, machine learning, and other applications.\n",
      "\n",
      "Final Answer: LangChain is a software framework that facilitates the integration of different AI models and data sources.\u001b[0m\n",
      "\n",
      "\u001b[1m> Finished chain.\u001b[0m\n",
      "LangChain is a software framework that facilitates the integration of different AI models and data sources.\n"
     ]
    }
   ],
   "source": [
    "tools = [wiki_tool]\n",
    "agent = initialize_agent(tools, llm, agent=\"zero-shot-react-description\", verbose=True)\n",
    "response = agent.run(\"What is LangChain?\")\n",
    "print(response)  # Print the response from the LLM with tool usage"
   ]
  },
  {
   "cell_type": "code",
   "execution_count": null,
   "id": "109997bb-6780-49c9-957b-2719c42fe63a",
   "metadata": {},
   "outputs": [],
   "source": []
  }
 ],
 "metadata": {
  "kernelspec": {
   "display_name": "Python 3 (ipykernel)",
   "language": "python",
   "name": "python3"
  },
  "language_info": {
   "codemirror_mode": {
    "name": "ipython",
    "version": 3
   },
   "file_extension": ".py",
   "mimetype": "text/x-python",
   "name": "python",
   "nbconvert_exporter": "python",
   "pygments_lexer": "ipython3",
   "version": "3.12.3"
  }
 },
 "nbformat": 4,
 "nbformat_minor": 5
}
